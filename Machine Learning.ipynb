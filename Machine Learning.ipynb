{
 "cells": [
  {
   "cell_type": "code",
   "execution_count": 1,
   "id": "93544968",
   "metadata": {},
   "outputs": [],
   "source": [
    "import pandas as pd\n",
    "import numpy as np\n",
    "import matplotlib.pyplot as plt\n",
    "import seaborn as sns"
   ]
  },
  {
   "cell_type": "markdown",
   "id": "270359d9",
   "metadata": {},
   "source": [
    "## Load Data"
   ]
  },
  {
   "cell_type": "code",
   "execution_count": 2,
   "id": "69a0493f",
   "metadata": {},
   "outputs": [],
   "source": [
    "df = pd.read_csv(\"model_data\")"
   ]
  },
  {
   "cell_type": "markdown",
   "id": "33d6d2e4",
   "metadata": {},
   "source": [
    "## Data Understanding"
   ]
  },
  {
   "cell_type": "code",
   "execution_count": 3,
   "id": "222f101e",
   "metadata": {
    "scrolled": true
   },
   "outputs": [
    {
     "data": {
      "text/html": [
       "<div>\n",
       "<style scoped>\n",
       "    .dataframe tbody tr th:only-of-type {\n",
       "        vertical-align: middle;\n",
       "    }\n",
       "\n",
       "    .dataframe tbody tr th {\n",
       "        vertical-align: top;\n",
       "    }\n",
       "\n",
       "    .dataframe thead th {\n",
       "        text-align: right;\n",
       "    }\n",
       "</style>\n",
       "<table border=\"1\" class=\"dataframe\">\n",
       "  <thead>\n",
       "    <tr style=\"text-align: right;\">\n",
       "      <th></th>\n",
       "      <th>Time</th>\n",
       "      <th>EacToday(kWh)</th>\n",
       "      <th>INVTemp(℃)</th>\n",
       "      <th>AMTemp1(℃)</th>\n",
       "      <th>BTTemp(℃)</th>\n",
       "      <th>OUTTemp(℃)</th>\n",
       "      <th>AMTemp2(℃)</th>\n",
       "      <th>next_after</th>\n",
       "    </tr>\n",
       "  </thead>\n",
       "  <tbody>\n",
       "    <tr>\n",
       "      <th>0</th>\n",
       "      <td>2025-03-01 06:52:01</td>\n",
       "      <td>0.0</td>\n",
       "      <td>25.3</td>\n",
       "      <td>23.9</td>\n",
       "      <td>32.3</td>\n",
       "      <td>0</td>\n",
       "      <td>23.2</td>\n",
       "      <td>NaN</td>\n",
       "    </tr>\n",
       "    <tr>\n",
       "      <th>1</th>\n",
       "      <td>2025-03-01 06:57:01</td>\n",
       "      <td>0.0</td>\n",
       "      <td>26.5</td>\n",
       "      <td>25.4</td>\n",
       "      <td>33.1</td>\n",
       "      <td>0</td>\n",
       "      <td>23.5</td>\n",
       "      <td>98.5</td>\n",
       "    </tr>\n",
       "    <tr>\n",
       "      <th>2</th>\n",
       "      <td>2025-03-01 07:02:01</td>\n",
       "      <td>0.0</td>\n",
       "      <td>27.6</td>\n",
       "      <td>27.1</td>\n",
       "      <td>34.0</td>\n",
       "      <td>0</td>\n",
       "      <td>23.9</td>\n",
       "      <td>301.0</td>\n",
       "    </tr>\n",
       "    <tr>\n",
       "      <th>3</th>\n",
       "      <td>2025-03-01 07:07:01</td>\n",
       "      <td>0.0</td>\n",
       "      <td>28.8</td>\n",
       "      <td>28.6</td>\n",
       "      <td>35.2</td>\n",
       "      <td>0</td>\n",
       "      <td>24.0</td>\n",
       "      <td>297.5</td>\n",
       "    </tr>\n",
       "    <tr>\n",
       "      <th>4</th>\n",
       "      <td>2025-03-01 07:12:01</td>\n",
       "      <td>0.0</td>\n",
       "      <td>29.8</td>\n",
       "      <td>30.0</td>\n",
       "      <td>36.0</td>\n",
       "      <td>0</td>\n",
       "      <td>24.2</td>\n",
       "      <td>302.5</td>\n",
       "    </tr>\n",
       "  </tbody>\n",
       "</table>\n",
       "</div>"
      ],
      "text/plain": [
       "                  Time  EacToday(kWh)  INVTemp(℃)  AMTemp1(℃)  BTTemp(℃)  \\\n",
       "0  2025-03-01 06:52:01            0.0        25.3        23.9       32.3   \n",
       "1  2025-03-01 06:57:01            0.0        26.5        25.4       33.1   \n",
       "2  2025-03-01 07:02:01            0.0        27.6        27.1       34.0   \n",
       "3  2025-03-01 07:07:01            0.0        28.8        28.6       35.2   \n",
       "4  2025-03-01 07:12:01            0.0        29.8        30.0       36.0   \n",
       "\n",
       "   OUTTemp(℃)  AMTemp2(℃)  next_after  \n",
       "0           0        23.2         NaN  \n",
       "1           0        23.5        98.5  \n",
       "2           0        23.9       301.0  \n",
       "3           0        24.0       297.5  \n",
       "4           0        24.2       302.5  "
      ]
     },
     "execution_count": 3,
     "metadata": {},
     "output_type": "execute_result"
    }
   ],
   "source": [
    "df.head()"
   ]
  },
  {
   "cell_type": "code",
   "execution_count": 4,
   "id": "887e1d1c",
   "metadata": {},
   "outputs": [
    {
     "data": {
      "text/html": [
       "<div>\n",
       "<style scoped>\n",
       "    .dataframe tbody tr th:only-of-type {\n",
       "        vertical-align: middle;\n",
       "    }\n",
       "\n",
       "    .dataframe tbody tr th {\n",
       "        vertical-align: top;\n",
       "    }\n",
       "\n",
       "    .dataframe thead th {\n",
       "        text-align: right;\n",
       "    }\n",
       "</style>\n",
       "<table border=\"1\" class=\"dataframe\">\n",
       "  <thead>\n",
       "    <tr style=\"text-align: right;\">\n",
       "      <th></th>\n",
       "      <th>EacToday(kWh)</th>\n",
       "      <th>INVTemp(℃)</th>\n",
       "      <th>AMTemp1(℃)</th>\n",
       "      <th>BTTemp(℃)</th>\n",
       "      <th>OUTTemp(℃)</th>\n",
       "      <th>AMTemp2(℃)</th>\n",
       "      <th>next_after</th>\n",
       "    </tr>\n",
       "  </thead>\n",
       "  <tbody>\n",
       "    <tr>\n",
       "      <th>count</th>\n",
       "      <td>4588.000000</td>\n",
       "      <td>4588.000000</td>\n",
       "      <td>4588.000000</td>\n",
       "      <td>4588.000000</td>\n",
       "      <td>4588.0</td>\n",
       "      <td>4588.000000</td>\n",
       "      <td>4587.000000</td>\n",
       "    </tr>\n",
       "    <tr>\n",
       "      <th>mean</th>\n",
       "      <td>266.978596</td>\n",
       "      <td>61.844006</td>\n",
       "      <td>50.509743</td>\n",
       "      <td>56.666979</td>\n",
       "      <td>0.0</td>\n",
       "      <td>46.695118</td>\n",
       "      <td>297.691411</td>\n",
       "    </tr>\n",
       "    <tr>\n",
       "      <th>std</th>\n",
       "      <td>198.163007</td>\n",
       "      <td>14.630597</td>\n",
       "      <td>8.820206</td>\n",
       "      <td>8.133309</td>\n",
       "      <td>0.0</td>\n",
       "      <td>10.843666</td>\n",
       "      <td>22.615001</td>\n",
       "    </tr>\n",
       "    <tr>\n",
       "      <th>min</th>\n",
       "      <td>0.000000</td>\n",
       "      <td>21.600000</td>\n",
       "      <td>20.400000</td>\n",
       "      <td>29.100000</td>\n",
       "      <td>0.0</td>\n",
       "      <td>18.000000</td>\n",
       "      <td>6.500000</td>\n",
       "    </tr>\n",
       "    <tr>\n",
       "      <th>25%</th>\n",
       "      <td>60.875000</td>\n",
       "      <td>52.200000</td>\n",
       "      <td>45.900000</td>\n",
       "      <td>51.500000</td>\n",
       "      <td>0.0</td>\n",
       "      <td>39.800000</td>\n",
       "      <td>297.500000</td>\n",
       "    </tr>\n",
       "    <tr>\n",
       "      <th>50%</th>\n",
       "      <td>268.100000</td>\n",
       "      <td>58.600000</td>\n",
       "      <td>49.800000</td>\n",
       "      <td>57.300000</td>\n",
       "      <td>0.0</td>\n",
       "      <td>47.700000</td>\n",
       "      <td>299.500000</td>\n",
       "    </tr>\n",
       "    <tr>\n",
       "      <th>75%</th>\n",
       "      <td>470.650000</td>\n",
       "      <td>75.900000</td>\n",
       "      <td>57.800000</td>\n",
       "      <td>63.300000</td>\n",
       "      <td>0.0</td>\n",
       "      <td>56.000000</td>\n",
       "      <td>302.500000</td>\n",
       "    </tr>\n",
       "    <tr>\n",
       "      <th>max</th>\n",
       "      <td>591.900000</td>\n",
       "      <td>88.600000</td>\n",
       "      <td>65.400000</td>\n",
       "      <td>71.600000</td>\n",
       "      <td>0.0</td>\n",
       "      <td>64.000000</td>\n",
       "      <td>479.000000</td>\n",
       "    </tr>\n",
       "  </tbody>\n",
       "</table>\n",
       "</div>"
      ],
      "text/plain": [
       "       EacToday(kWh)   INVTemp(℃)   AMTemp1(℃)    BTTemp(℃)  OUTTemp(℃)  \\\n",
       "count    4588.000000  4588.000000  4588.000000  4588.000000      4588.0   \n",
       "mean      266.978596    61.844006    50.509743    56.666979         0.0   \n",
       "std       198.163007    14.630597     8.820206     8.133309         0.0   \n",
       "min         0.000000    21.600000    20.400000    29.100000         0.0   \n",
       "25%        60.875000    52.200000    45.900000    51.500000         0.0   \n",
       "50%       268.100000    58.600000    49.800000    57.300000         0.0   \n",
       "75%       470.650000    75.900000    57.800000    63.300000         0.0   \n",
       "max       591.900000    88.600000    65.400000    71.600000         0.0   \n",
       "\n",
       "        AMTemp2(℃)   next_after  \n",
       "count  4588.000000  4587.000000  \n",
       "mean     46.695118   297.691411  \n",
       "std      10.843666    22.615001  \n",
       "min      18.000000     6.500000  \n",
       "25%      39.800000   297.500000  \n",
       "50%      47.700000   299.500000  \n",
       "75%      56.000000   302.500000  \n",
       "max      64.000000   479.000000  "
      ]
     },
     "execution_count": 4,
     "metadata": {},
     "output_type": "execute_result"
    }
   ],
   "source": [
    "df.describe()"
   ]
  },
  {
   "cell_type": "code",
   "execution_count": 5,
   "id": "92e8af6b",
   "metadata": {},
   "outputs": [],
   "source": [
    "df = df.drop('OUTTemp(℃)', axis=1)"
   ]
  },
  {
   "cell_type": "code",
   "execution_count": 6,
   "id": "37af6ea9",
   "metadata": {},
   "outputs": [],
   "source": [
    "df[\"Time\"]=pd.to_datetime(df[\"Time\"])"
   ]
  },
  {
   "cell_type": "code",
   "execution_count": 7,
   "id": "aae6cb32",
   "metadata": {},
   "outputs": [
    {
     "name": "stdout",
     "output_type": "stream",
     "text": [
      "<class 'pandas.core.frame.DataFrame'>\n",
      "RangeIndex: 4588 entries, 0 to 4587\n",
      "Data columns (total 7 columns):\n",
      " #   Column         Non-Null Count  Dtype         \n",
      "---  ------         --------------  -----         \n",
      " 0   Time           4588 non-null   datetime64[ns]\n",
      " 1   EacToday(kWh)  4588 non-null   float64       \n",
      " 2   INVTemp(℃)     4588 non-null   float64       \n",
      " 3   AMTemp1(℃)     4588 non-null   float64       \n",
      " 4   BTTemp(℃)      4588 non-null   float64       \n",
      " 5   AMTemp2(℃)     4588 non-null   float64       \n",
      " 6   next_after     4587 non-null   float64       \n",
      "dtypes: datetime64[ns](1), float64(6)\n",
      "memory usage: 251.0 KB\n"
     ]
    }
   ],
   "source": [
    "df.info()"
   ]
  },
  {
   "cell_type": "code",
   "execution_count": 8,
   "id": "e0626d2d",
   "metadata": {},
   "outputs": [],
   "source": [
    "df = df.dropna()"
   ]
  },
  {
   "cell_type": "code",
   "execution_count": 9,
   "id": "e7d3a9f6",
   "metadata": {},
   "outputs": [
    {
     "data": {
      "text/plain": [
       "(4587, 7)"
      ]
     },
     "execution_count": 9,
     "metadata": {},
     "output_type": "execute_result"
    }
   ],
   "source": [
    "df.shape"
   ]
  },
  {
   "cell_type": "markdown",
   "id": "eeb619a9",
   "metadata": {},
   "source": [
    "## Features and target"
   ]
  },
  {
   "cell_type": "code",
   "execution_count": 10,
   "id": "ff6aab84",
   "metadata": {},
   "outputs": [],
   "source": [
    "X= df.drop(['Time','EacToday(kWh)','next_after'],axis=1)\n",
    "y=df[\"EacToday(kWh)\"]"
   ]
  },
  {
   "cell_type": "markdown",
   "id": "2417644a",
   "metadata": {},
   "source": [
    "## Split data for time series"
   ]
  },
  {
   "cell_type": "code",
   "execution_count": 11,
   "id": "192e69c1",
   "metadata": {},
   "outputs": [],
   "source": [
    "split_ratio = 0.8  # 80% train, 20% test\n",
    "split_point = int(len(df) * split_ratio)\n",
    "\n",
    "X_train = X.iloc[:split_point]\n",
    "X_test = X.iloc[split_point:]\n",
    "y_train = y.iloc[:split_point]\n",
    "y_test = y.iloc[split_point:]"
   ]
  },
  {
   "cell_type": "markdown",
   "id": "44dfdff5",
   "metadata": {},
   "source": [
    "## Normalization"
   ]
  },
  {
   "cell_type": "code",
   "execution_count": 12,
   "id": "da48a2a0",
   "metadata": {},
   "outputs": [],
   "source": [
    "#wont normalize them for now since all of them are in celsius"
   ]
  },
  {
   "cell_type": "code",
   "execution_count": 13,
   "id": "3efb0e3f",
   "metadata": {},
   "outputs": [],
   "source": [
    "# from sklearn.preprocessing import StandardScaler\n",
    "# scaler = StandardScaler()\n",
    "# X_train_scaled =scaler.fit_transform(X_train)\n",
    "# X_test_scaled = scaler.transform(X_test)"
   ]
  },
  {
   "cell_type": "markdown",
   "id": "21fbbff8",
   "metadata": {},
   "source": [
    "## Models"
   ]
  },
  {
   "cell_type": "code",
   "execution_count": 14,
   "id": "76e92003",
   "metadata": {},
   "outputs": [],
   "source": [
    "from sklearn.linear_model import LinearRegression\n",
    "from sklearn.tree import DecisionTreeRegressor\n",
    "from sklearn.ensemble import RandomForestRegressor\n",
    "from sklearn.svm import SVR\n",
    "from sklearn.neighbors import KNeighborsRegressor\n",
    "from sklearn.neural_network  import MLPRegressor\n",
    "from xgboost import XGBRegressor"
   ]
  },
  {
   "cell_type": "code",
   "execution_count": 15,
   "id": "a80ca4c9",
   "metadata": {},
   "outputs": [],
   "source": [
    "models = {\n",
    "    \"Linear Regression\": LinearRegression(),\n",
    "    \"Decision Tree\": DecisionTreeRegressor(random_state=42),\n",
    "    \"Random Forest\": RandomForestRegressor(random_state=42),\n",
    "    \"XGBoost\": XGBRegressor(random_state=42),\n",
    "    \"Support Vector Regressor\": SVR(),\n",
    "    \"K-Nearest Neighbors\": KNeighborsRegressor(),\n",
    "    \"Neural Network (MLP)\": MLPRegressor(random_state=42, max_iter=1000)\n",
    "}"
   ]
  },
  {
   "cell_type": "code",
   "execution_count": 16,
   "id": "456948af",
   "metadata": {},
   "outputs": [],
   "source": [
    "from sklearn.metrics import mean_absolute_error,mean_squared_error,r2_score"
   ]
  },
  {
   "cell_type": "code",
   "execution_count": 17,
   "id": "da8f5d49",
   "metadata": {},
   "outputs": [
    {
     "name": "stdout",
     "output_type": "stream",
     "text": [
      "Training Linear Regression...\n",
      "Training Decision Tree...\n",
      "Training Random Forest...\n",
      "Training XGBoost...\n",
      "Training Support Vector Regressor...\n",
      "Training K-Nearest Neighbors...\n",
      "Training Neural Network (MLP)...\n"
     ]
    },
    {
     "name": "stderr",
     "output_type": "stream",
     "text": [
      "C:\\Users\\Simran\\anaconda3\\Lib\\site-packages\\sklearn\\neural_network\\_multilayer_perceptron.py:691: ConvergenceWarning: Stochastic Optimizer: Maximum iterations (1000) reached and the optimization hasn't converged yet.\n",
      "  warnings.warn(\n"
     ]
    }
   ],
   "source": [
    "results = {}\n",
    "\n",
    "for name, model in models.items():\n",
    "    print(f\"Training {name}...\")\n",
    "    model.fit(X_train, y_train)\n",
    "    y_pred = model.predict(X_test)\n",
    "    \n",
    "    mae = mean_absolute_error(y_test, y_pred)\n",
    "    mse = mean_squared_error(y_test, y_pred)\n",
    "    rmse = np.sqrt(mse)\n",
    "    r2 = r2_score(y_test, y_pred)\n",
    "    \n",
    "    results[name] = {\"MAE\": mae, \"MSE\": mse, \"RMSE\": rmse, \"R2\": r2}\n"
   ]
  },
  {
   "cell_type": "code",
   "execution_count": 18,
   "id": "2eb469c5",
   "metadata": {},
   "outputs": [
    {
     "name": "stdout",
     "output_type": "stream",
     "text": [
      "\n",
      "Model Comparison:\n",
      "                                MAE           MSE        RMSE        R2\n",
      "Linear Regression         71.236637   7369.829828   85.847713  0.819330\n",
      "Decision Tree             25.383932   2025.957639   45.010639  0.950334\n",
      "Random Forest             22.713174   1161.660013   34.083134  0.971522\n",
      "XGBoost                   22.619888   1280.288146   35.781114  0.968614\n",
      "Support Vector Regressor  91.155944  12640.273396  112.428970  0.690126\n",
      "K-Nearest Neighbors       22.077865   1101.105709   33.182913  0.973007\n",
      "Neural Network (MLP)      56.120152   5270.756975   72.599979  0.870788\n"
     ]
    }
   ],
   "source": [
    "results_df = pd.DataFrame(results).T\n",
    "print(\"\\nModel Comparison:\")\n",
    "print(results_df)"
   ]
  },
  {
   "cell_type": "code",
   "execution_count": 19,
   "id": "0fed17dc",
   "metadata": {},
   "outputs": [
    {
     "data": {
      "image/png": "[encoded data removed]",
      "text/plain": [
       "<Figure size 1000x600 with 1 Axes>"
      ]
     },
     "metadata": {},
     "output_type": "display_data"
    }
   ],
   "source": [
    "results_df['RMSE'].sort_values().plot(kind='barh', title=\"Model RMSE Comparison\", figsize=(10,6))\n",
    "plt.xlabel(\"RMSE\")\n",
    "plt.show()"
   ]
  },
  {
   "cell_type": "code",
   "execution_count": null,
   "id": "c6d83fa1",
   "metadata": {},
   "outputs": [],
   "source": []
  }
 ],
 "metadata": {
  "kernelspec": {
   "display_name": "Python 3 (ipykernel)",
   "language": "python",
   "name": "python3"
  },
  "language_info": {
   "codemirror_mode": {
    "name": "ipython",
    "version": 3
   },
   "file_extension": ".py",
   "mimetype": "text/x-python",
   "name": "python",
   "nbconvert_exporter": "python",
   "pygments_lexer": "ipython3",
   "version": "3.11.5"
  }
 },
 "nbformat": 4,
 "nbformat_minor": 5
}
